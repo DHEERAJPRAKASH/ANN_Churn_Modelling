{
 "cells": [
  {
   "cell_type": "markdown",
   "id": "fad815c6",
   "metadata": {},
   "source": [
    "# Churn Modelling"
   ]
  },
  {
   "cell_type": "code",
   "execution_count": 105,
   "id": "25ad5a3a",
   "metadata": {},
   "outputs": [
    {
     "name": "stdout",
     "output_type": "stream",
     "text": [
      "2.20.0\n"
     ]
    }
   ],
   "source": [
    "import tensorflow as tf\n",
    "\n",
    "print(tf.__version__)"
   ]
  },
  {
   "cell_type": "markdown",
   "id": "feadb3ff",
   "metadata": {},
   "source": [
    "## Import Basic Libraries"
   ]
  },
  {
   "cell_type": "code",
   "execution_count": 106,
   "id": "a489e33c",
   "metadata": {},
   "outputs": [],
   "source": [
    "import numpy as np\n",
    "import pandas as pd\n",
    "import matplotlib.pyplot as plt"
   ]
  },
  {
   "cell_type": "markdown",
   "id": "41563131",
   "metadata": {},
   "source": [
    "# Read the dataset"
   ]
  },
  {
   "cell_type": "code",
   "execution_count": null,
   "id": "d67a9d80",
   "metadata": {},
   "outputs": [],
   "source": [
    "dataset = pd.read_csv('Churn_Modelling.csv')"
   ]
  },
  {
   "cell_type": "code",
   "execution_count": 108,
   "id": "96f3dff1",
   "metadata": {},
   "outputs": [
    {
     "data": {
      "text/html": [
       "<div>\n",
       "<style scoped>\n",
       "    .dataframe tbody tr th:only-of-type {\n",
       "        vertical-align: middle;\n",
       "    }\n",
       "\n",
       "    .dataframe tbody tr th {\n",
       "        vertical-align: top;\n",
       "    }\n",
       "\n",
       "    .dataframe thead th {\n",
       "        text-align: right;\n",
       "    }\n",
       "</style>\n",
       "<table border=\"1\" class=\"dataframe\">\n",
       "  <thead>\n",
       "    <tr style=\"text-align: right;\">\n",
       "      <th></th>\n",
       "      <th>RowNumber</th>\n",
       "      <th>CustomerId</th>\n",
       "      <th>Surname</th>\n",
       "      <th>CreditScore</th>\n",
       "      <th>Geography</th>\n",
       "      <th>Gender</th>\n",
       "      <th>Age</th>\n",
       "      <th>Tenure</th>\n",
       "      <th>Balance</th>\n",
       "      <th>NumOfProducts</th>\n",
       "      <th>HasCrCard</th>\n",
       "      <th>IsActiveMember</th>\n",
       "      <th>EstimatedSalary</th>\n",
       "      <th>Exited</th>\n",
       "    </tr>\n",
       "  </thead>\n",
       "  <tbody>\n",
       "    <tr>\n",
       "      <th>0</th>\n",
       "      <td>1</td>\n",
       "      <td>15634602</td>\n",
       "      <td>Hargrave</td>\n",
       "      <td>619</td>\n",
       "      <td>France</td>\n",
       "      <td>Female</td>\n",
       "      <td>42</td>\n",
       "      <td>2</td>\n",
       "      <td>0.00</td>\n",
       "      <td>1</td>\n",
       "      <td>1</td>\n",
       "      <td>1</td>\n",
       "      <td>101348.88</td>\n",
       "      <td>1</td>\n",
       "    </tr>\n",
       "    <tr>\n",
       "      <th>1</th>\n",
       "      <td>2</td>\n",
       "      <td>15647311</td>\n",
       "      <td>Hill</td>\n",
       "      <td>608</td>\n",
       "      <td>Spain</td>\n",
       "      <td>Female</td>\n",
       "      <td>41</td>\n",
       "      <td>1</td>\n",
       "      <td>83807.86</td>\n",
       "      <td>1</td>\n",
       "      <td>0</td>\n",
       "      <td>1</td>\n",
       "      <td>112542.58</td>\n",
       "      <td>0</td>\n",
       "    </tr>\n",
       "    <tr>\n",
       "      <th>2</th>\n",
       "      <td>3</td>\n",
       "      <td>15619304</td>\n",
       "      <td>Onio</td>\n",
       "      <td>502</td>\n",
       "      <td>France</td>\n",
       "      <td>Female</td>\n",
       "      <td>42</td>\n",
       "      <td>8</td>\n",
       "      <td>159660.80</td>\n",
       "      <td>3</td>\n",
       "      <td>1</td>\n",
       "      <td>0</td>\n",
       "      <td>113931.57</td>\n",
       "      <td>1</td>\n",
       "    </tr>\n",
       "    <tr>\n",
       "      <th>3</th>\n",
       "      <td>4</td>\n",
       "      <td>15701354</td>\n",
       "      <td>Boni</td>\n",
       "      <td>699</td>\n",
       "      <td>France</td>\n",
       "      <td>Female</td>\n",
       "      <td>39</td>\n",
       "      <td>1</td>\n",
       "      <td>0.00</td>\n",
       "      <td>2</td>\n",
       "      <td>0</td>\n",
       "      <td>0</td>\n",
       "      <td>93826.63</td>\n",
       "      <td>0</td>\n",
       "    </tr>\n",
       "    <tr>\n",
       "      <th>4</th>\n",
       "      <td>5</td>\n",
       "      <td>15737888</td>\n",
       "      <td>Mitchell</td>\n",
       "      <td>850</td>\n",
       "      <td>Spain</td>\n",
       "      <td>Female</td>\n",
       "      <td>43</td>\n",
       "      <td>2</td>\n",
       "      <td>125510.82</td>\n",
       "      <td>1</td>\n",
       "      <td>1</td>\n",
       "      <td>1</td>\n",
       "      <td>79084.10</td>\n",
       "      <td>0</td>\n",
       "    </tr>\n",
       "  </tbody>\n",
       "</table>\n",
       "</div>"
      ],
      "text/plain": [
       "   RowNumber  CustomerId   Surname  CreditScore Geography  Gender  Age  \\\n",
       "0          1    15634602  Hargrave          619    France  Female   42   \n",
       "1          2    15647311      Hill          608     Spain  Female   41   \n",
       "2          3    15619304      Onio          502    France  Female   42   \n",
       "3          4    15701354      Boni          699    France  Female   39   \n",
       "4          5    15737888  Mitchell          850     Spain  Female   43   \n",
       "\n",
       "   Tenure    Balance  NumOfProducts  HasCrCard  IsActiveMember  \\\n",
       "0       2       0.00              1          1               1   \n",
       "1       1   83807.86              1          0               1   \n",
       "2       8  159660.80              3          1               0   \n",
       "3       1       0.00              2          0               0   \n",
       "4       2  125510.82              1          1               1   \n",
       "\n",
       "   EstimatedSalary  Exited  \n",
       "0        101348.88       1  \n",
       "1        112542.58       0  \n",
       "2        113931.57       1  \n",
       "3         93826.63       0  \n",
       "4         79084.10       0  "
      ]
     },
     "execution_count": 108,
     "metadata": {},
     "output_type": "execute_result"
    }
   ],
   "source": [
    "dataset.head()"
   ]
  },
  {
   "cell_type": "markdown",
   "id": "762786ea",
   "metadata": {},
   "source": [
    "## Divide the dataset into In-Dependent and Dependent features"
   ]
  },
  {
   "cell_type": "code",
   "execution_count": 109,
   "id": "5f1cabe0",
   "metadata": {},
   "outputs": [
    {
     "name": "stdout",
     "output_type": "stream",
     "text": [
      "   CreditScore Geography  Gender  Age  Tenure    Balance  NumOfProducts  \\\n",
      "0          619    France  Female   42       2       0.00              1   \n",
      "1          608     Spain  Female   41       1   83807.86              1   \n",
      "2          502    France  Female   42       8  159660.80              3   \n",
      "3          699    France  Female   39       1       0.00              2   \n",
      "4          850     Spain  Female   43       2  125510.82              1   \n",
      "\n",
      "   HasCrCard  IsActiveMember  EstimatedSalary  \n",
      "0          1               1        101348.88  \n",
      "1          0               1        112542.58  \n",
      "2          1               0        113931.57  \n",
      "3          0               0         93826.63  \n",
      "4          1               1         79084.10  \n",
      "0    1\n",
      "1    0\n",
      "2    1\n",
      "3    0\n",
      "4    0\n",
      "Name: Exited, dtype: int64\n"
     ]
    }
   ],
   "source": [
    "X = dataset.iloc[:, 3:13] # Independent columns - I want all rows (:) and columns from 3 to 12th (including 12th)\n",
    "y = dataset.iloc[:, 13] # Dependent column - I want all rows (:) and 13th column (Churn)\n",
    "\n",
    "print(X.head())\n",
    "print(y.head())"
   ]
  },
  {
   "cell_type": "markdown",
   "id": "dd1abc2d",
   "metadata": {},
   "source": [
    "## Feature engineering"
   ]
  },
  {
   "cell_type": "code",
   "execution_count": 110,
   "id": "551a81c4",
   "metadata": {},
   "outputs": [
    {
     "name": "stdout",
     "output_type": "stream",
     "text": [
      "   Germany  Spain\n",
      "0    False  False\n",
      "1    False   True\n",
      "2    False  False\n",
      "3    False  False\n",
      "4    False   True\n"
     ]
    }
   ],
   "source": [
    "geography =pd.get_dummies(dataset[\"Geography\"], drop_first=True)\n",
    "# Actually without drop_first=True, it would create 3 columns for the 3 countries (France, Germany, Spain)\n",
    "# But with drop_first=True, it would create 2 columns for the 2 countries (Germany, Spain)\n",
    "# Because it would drop the first column (France)\n",
    "\n",
    "# So, we are dropping the first column (France) to avoid multicollinearity\n",
    "# we can interpret the columns as follows:\n",
    "# France = 0, Germany = 1, Spain = 0\n",
    "\n",
    "print(geography.head())\n"
   ]
  },
  {
   "cell_type": "code",
   "execution_count": 111,
   "id": "e62020a9",
   "metadata": {},
   "outputs": [
    {
     "name": "stdout",
     "output_type": "stream",
     "text": [
      "    Male\n",
      "0  False\n",
      "1  False\n",
      "2  False\n",
      "3  False\n",
      "4  False\n"
     ]
    }
   ],
   "source": [
    "gender = pd.get_dummies(dataset[\"Gender\"], drop_first=True)\n",
    "# Here we can interpret the columns as follows:\n",
    "# Male = 0, Female = 1\n",
    "\n",
    "print(gender.head())"
   ]
  },
  {
   "cell_type": "code",
   "execution_count": 112,
   "id": "2a282c25",
   "metadata": {},
   "outputs": [
    {
     "name": "stdout",
     "output_type": "stream",
     "text": [
      "   CreditScore  Age  Tenure    Balance  NumOfProducts  HasCrCard  \\\n",
      "0          619   42       2       0.00              1          1   \n",
      "1          608   41       1   83807.86              1          0   \n",
      "2          502   42       8  159660.80              3          1   \n",
      "3          699   39       1       0.00              2          0   \n",
      "4          850   43       2  125510.82              1          1   \n",
      "\n",
      "   IsActiveMember  EstimatedSalary  \n",
      "0               1        101348.88  \n",
      "1               1        112542.58  \n",
      "2               0        113931.57  \n",
      "3               0         93826.63  \n",
      "4               1         79084.10  \n",
      "   RowNumber  CustomerId   Surname  CreditScore Geography  Gender  Age  \\\n",
      "0          1    15634602  Hargrave          619    France  Female   42   \n",
      "1          2    15647311      Hill          608     Spain  Female   41   \n",
      "2          3    15619304      Onio          502    France  Female   42   \n",
      "3          4    15701354      Boni          699    France  Female   39   \n",
      "4          5    15737888  Mitchell          850     Spain  Female   43   \n",
      "\n",
      "   Tenure    Balance  NumOfProducts  HasCrCard  IsActiveMember  \\\n",
      "0       2       0.00              1          1               1   \n",
      "1       1   83807.86              1          0               1   \n",
      "2       8  159660.80              3          1               0   \n",
      "3       1       0.00              2          0               0   \n",
      "4       2  125510.82              1          1               1   \n",
      "\n",
      "   EstimatedSalary  Exited  Germany  Spain   Male  \n",
      "0        101348.88       1    False  False  False  \n",
      "1        112542.58       0    False   True  False  \n",
      "2        113931.57       1    False  False  False  \n",
      "3         93826.63       0    False  False  False  \n",
      "4         79084.10       0    False   True  False  \n"
     ]
    }
   ],
   "source": [
    "# Now, we can concatenate the dummy variables to the original dataset\n",
    "\n",
    "# For that first drop the Geography and Gender columns\n",
    "\n",
    "X = X.drop(['Geography', 'Gender'], axis=1)\n",
    "print(X.head())\n",
    "\n",
    "# Now, we can concatenate the dummy variables to the original dataset\n",
    "\n",
    "X = pd.concat([dataset, geography, gender], axis=1)\n",
    "\n",
    "print(X.head())"
   ]
  },
  {
   "cell_type": "markdown",
   "id": "d66ebbeb",
   "metadata": {},
   "source": [
    "## Now we can split the dataset to training and testing dataset"
   ]
  },
  {
   "cell_type": "code",
   "execution_count": 115,
   "id": "0952bfa5",
   "metadata": {},
   "outputs": [
    {
     "name": "stdout",
     "output_type": "stream",
     "text": [
      "      RowNumber  CustomerId  Surname  CreditScore Geography  Gender  Age  \\\n",
      "7389       7390    15676909   Mishin          667     Spain  Female   34   \n",
      "9275       9276    15749265  Carslaw          427   Germany    Male   42   \n",
      "2995       2996    15582492    Moore          535    France  Female   29   \n",
      "5316       5317    15780386    Ferri          654     Spain    Male   40   \n",
      "356         357    15611759  Simmons          850     Spain  Female   57   \n",
      "\n",
      "      Tenure    Balance  NumOfProducts  HasCrCard  IsActiveMember  \\\n",
      "7389       5       0.00              2          1               0   \n",
      "9275       1   75681.52              1          1               1   \n",
      "2995       2  112367.34              1          1               0   \n",
      "5316       5  105683.63              1          1               0   \n",
      "356        8  126776.30              2          1               1   \n",
      "\n",
      "      EstimatedSalary  Exited  Germany  Spain   Male  \n",
      "7389        163830.64       0    False   True  False  \n",
      "9275         57098.00       0     True  False   True  \n",
      "2995        185630.76       0    False  False  False  \n",
      "5316        173617.09       0    False   True   True  \n",
      "356         132298.49       0    False   True  False  \n",
      "(8000, 17)\n"
     ]
    }
   ],
   "source": [
    "from sklearn.model_selection import train_test_split\n",
    "\n",
    "X_train, X_test, y_train, y_test = train_test_split(X, y, test_size=0.2, random_state=0)\n",
    "print(X_train.head())\n",
    "print(X_train.shape)"
   ]
  },
  {
   "cell_type": "markdown",
   "id": "42368023",
   "metadata": {},
   "source": [
    "## Now we need to use Feature Scaling - For ANN it is very much needed\n",
    "\n",
    "#### Algo needs FS -> Linear Regression, Logistic Regression, KNN, K-Means, Neural Networks (Which and all involves distance based data (large numerical))"
   ]
  },
  {
   "cell_type": "code",
   "execution_count": 117,
   "id": "38418013",
   "metadata": {},
   "outputs": [
    {
     "name": "stdout",
     "output_type": "stream",
     "text": [
      "Scaled training data shape: (8000, 11)\n",
      "First few rows of scaled data:\n",
      "[[ 0.16958176 -0.46460796  0.00666099 -1.21571749  0.8095029   0.64259497\n",
      "  -1.03227043  1.10643166 -0.5698444   1.74309049 -1.09168714]\n",
      " [-2.30455945  0.30102557 -1.37744033 -0.00631193 -0.92159124  0.64259497\n",
      "   0.9687384  -0.74866447  1.75486502 -0.57369368  0.91601335]\n",
      " [-1.19119591 -0.94312892 -1.031415    0.57993469 -0.92159124  0.64259497\n",
      "  -1.03227043  1.48533467 -0.5698444  -0.57369368 -1.09168714]\n",
      " [ 0.03556578  0.10961719  0.00666099  0.47312769 -0.92159124  0.64259497\n",
      "  -1.03227043  1.27652776 -0.5698444   1.74309049  0.91601335]\n",
      " [ 2.05611444  1.73658844  1.04473698  0.8101927   0.8095029   0.64259497\n",
      "   0.9687384   0.55837842 -0.5698444   1.74309049 -1.09168714]]\n"
     ]
    }
   ],
   "source": [
    "from sklearn.preprocessing import StandardScaler\n",
    "\n",
    "# First, we need to select only the numerical columns for scaling\n",
    "# We'll exclude the string columns and keep only the features we need for the model\n",
    "numerical_columns = ['CreditScore', 'Age', 'Tenure', 'Balance', 'NumOfProducts', 'HasCrCard', 'IsActiveMember', 'EstimatedSalary', 'Germany', 'Spain', 'Male']\n",
    "\n",
    "# Extract only the numerical columns from X_train and X_test\n",
    "X_train_numerical = X_train[numerical_columns]\n",
    "X_test_numerical = X_test[numerical_columns]\n",
    "\n",
    "scaler = StandardScaler()\n",
    "\n",
    "X_train_scaled = scaler.fit_transform(X_train_numerical) # We use fit_transform on training data because we want to learn the mean and standard deviation of the training data and then use the same mean and standard deviation to transform the test data\n",
    "X_test_scaled = scaler.transform(X_test_numerical) # We use transform on test data because we want to use the same mean and standard deviation of the training data to transform the test data (Already learned from training data)\n",
    "\n",
    "print(\"Scaled training data shape:\", X_train_scaled.shape)\n",
    "print(\"First few rows of scaled data:\")\n",
    "print(X_train_scaled[:5])"
   ]
  },
  {
   "cell_type": "code",
   "execution_count": 118,
   "id": "26a5b147",
   "metadata": {},
   "outputs": [
    {
     "data": {
      "text/plain": [
       "(8000, 11)"
      ]
     },
     "execution_count": 118,
     "metadata": {},
     "output_type": "execute_result"
    }
   ],
   "source": [
    "X_train_scaled.shape"
   ]
  },
  {
   "cell_type": "markdown",
   "id": "809a1787",
   "metadata": {},
   "source": [
    "## Now we can build the ANN"
   ]
  },
  {
   "cell_type": "code",
   "execution_count": 134,
   "id": "a7bf2423",
   "metadata": {},
   "outputs": [],
   "source": [
    "from tensorflow.keras.models import Sequential\n",
    "from tensorflow.keras.layers import Dense\n",
    "from tensorflow.keras.optimizers import Adam\n",
    "from tensorflow.keras.layers import Dropout\n",
    "\n",
    "# Initialize the ANN\n",
    "classifier = Sequential()\n",
    "\n",
    "# Adding the input layer\n",
    "classifier.add(Dense(units = 11, activation = 'relu'))\n",
    "\n",
    "# Adding the first hidden layer\n",
    "classifier.add(Dense(units = 7, activation = 'relu'))\n",
    "classifier.add(Dropout(0.2))\n",
    "\n",
    "# Adding the second hidden layer\n",
    "classifier.add(Dense(units = 6, activation = 'relu'))\n",
    "\n",
    "# Adding the output layer\n",
    "classifier.add(Dense(units = 1, activation = 'sigmoid'))\n",
    "\n"
   ]
  },
  {
   "cell_type": "code",
   "execution_count": 135,
   "id": "a804a139",
   "metadata": {},
   "outputs": [],
   "source": [
    "classifier.compile(\n",
    "    optimizer = tf.keras.optimizers.Adam(learning_rate=0.01),\n",
    "    loss = 'binary_crossentropy',\n",
    "    metrics = ['accuracy']\n",
    ")"
   ]
  },
  {
   "cell_type": "markdown",
   "id": "71886363",
   "metadata": {},
   "source": [
    "## Train the model now"
   ]
  },
  {
   "cell_type": "code",
   "execution_count": 136,
   "id": "862bf810",
   "metadata": {},
   "outputs": [],
   "source": [
    "# Early Stopping\n",
    "early_stopping = tf.keras.callbacks.EarlyStopping(\n",
    "    monitor=\"val_loss\",\n",
    "    min_delta=0.001,\n",
    "    patience=20,\n",
    "    verbose=1,\n",
    "    mode=\"auto\",\n",
    "    baseline=None,\n",
    "    restore_best_weights=False,\n",
    "    start_from_epoch=0,\n",
    ")"
   ]
  },
  {
   "cell_type": "code",
   "execution_count": 137,
   "id": "47cd15d2",
   "metadata": {},
   "outputs": [
    {
     "name": "stdout",
     "output_type": "stream",
     "text": [
      "Epoch 1/1000\n",
      "\u001b[1m536/536\u001b[0m \u001b[32m━━━━━━━━━━━━━━━━━━━━\u001b[0m\u001b[37m\u001b[0m \u001b[1m2s\u001b[0m 901us/step - accuracy: 0.7960 - loss: 0.4528 - val_accuracy: 0.7955 - val_loss: 0.4127\n",
      "Epoch 2/1000\n",
      "\u001b[1m536/536\u001b[0m \u001b[32m━━━━━━━━━━━━━━━━━━━━\u001b[0m\u001b[37m\u001b[0m \u001b[1m1s\u001b[0m 1ms/step - accuracy: 0.8210 - loss: 0.4015 - val_accuracy: 0.8413 - val_loss: 0.3885\n",
      "Epoch 3/1000\n",
      "\u001b[1m536/536\u001b[0m \u001b[32m━━━━━━━━━━━━━━━━━━━━\u001b[0m\u001b[37m\u001b[0m \u001b[1m0s\u001b[0m 759us/step - accuracy: 0.8378 - loss: 0.3825 - val_accuracy: 0.8474 - val_loss: 0.3833\n",
      "Epoch 4/1000\n",
      "\u001b[1m536/536\u001b[0m \u001b[32m━━━━━━━━━━━━━━━━━━━━\u001b[0m\u001b[37m\u001b[0m \u001b[1m0s\u001b[0m 816us/step - accuracy: 0.8479 - loss: 0.3724 - val_accuracy: 0.8584 - val_loss: 0.3833\n",
      "Epoch 5/1000\n",
      "\u001b[1m536/536\u001b[0m \u001b[32m━━━━━━━━━━━━━━━━━━━━\u001b[0m\u001b[37m\u001b[0m \u001b[1m0s\u001b[0m 835us/step - accuracy: 0.8494 - loss: 0.3661 - val_accuracy: 0.8504 - val_loss: 0.3721\n",
      "Epoch 6/1000\n",
      "\u001b[1m536/536\u001b[0m \u001b[32m━━━━━━━━━━━━━━━━━━━━\u001b[0m\u001b[37m\u001b[0m \u001b[1m0s\u001b[0m 771us/step - accuracy: 0.8511 - loss: 0.3626 - val_accuracy: 0.8516 - val_loss: 0.3624\n",
      "Epoch 7/1000\n",
      "\u001b[1m536/536\u001b[0m \u001b[32m━━━━━━━━━━━━━━━━━━━━\u001b[0m\u001b[37m\u001b[0m \u001b[1m0s\u001b[0m 750us/step - accuracy: 0.8545 - loss: 0.3606 - val_accuracy: 0.8527 - val_loss: 0.3712\n",
      "Epoch 8/1000\n",
      "\u001b[1m536/536\u001b[0m \u001b[32m━━━━━━━━━━━━━━━━━━━━\u001b[0m\u001b[37m\u001b[0m \u001b[1m0s\u001b[0m 754us/step - accuracy: 0.8561 - loss: 0.3609 - val_accuracy: 0.8451 - val_loss: 0.4103\n",
      "Epoch 9/1000\n",
      "\u001b[1m536/536\u001b[0m \u001b[32m━━━━━━━━━━━━━━━━━━━━\u001b[0m\u001b[37m\u001b[0m \u001b[1m0s\u001b[0m 753us/step - accuracy: 0.8515 - loss: 0.3571 - val_accuracy: 0.8523 - val_loss: 0.3696\n",
      "Epoch 10/1000\n",
      "\u001b[1m536/536\u001b[0m \u001b[32m━━━━━━━━━━━━━━━━━━━━\u001b[0m\u001b[37m\u001b[0m \u001b[1m0s\u001b[0m 750us/step - accuracy: 0.8602 - loss: 0.3557 - val_accuracy: 0.8504 - val_loss: 0.3733\n",
      "Epoch 11/1000\n",
      "\u001b[1m536/536\u001b[0m \u001b[32m━━━━━━━━━━━━━━━━━━━━\u001b[0m\u001b[37m\u001b[0m \u001b[1m0s\u001b[0m 802us/step - accuracy: 0.8569 - loss: 0.3539 - val_accuracy: 0.8542 - val_loss: 0.3597\n",
      "Epoch 12/1000\n",
      "\u001b[1m536/536\u001b[0m \u001b[32m━━━━━━━━━━━━━━━━━━━━\u001b[0m\u001b[37m\u001b[0m \u001b[1m0s\u001b[0m 794us/step - accuracy: 0.8569 - loss: 0.3537 - val_accuracy: 0.8527 - val_loss: 0.3668\n",
      "Epoch 13/1000\n",
      "\u001b[1m536/536\u001b[0m \u001b[32m━━━━━━━━━━━━━━━━━━━━\u001b[0m\u001b[37m\u001b[0m \u001b[1m0s\u001b[0m 843us/step - accuracy: 0.8589 - loss: 0.3483 - val_accuracy: 0.8565 - val_loss: 0.3650\n",
      "Epoch 14/1000\n",
      "\u001b[1m536/536\u001b[0m \u001b[32m━━━━━━━━━━━━━━━━━━━━\u001b[0m\u001b[37m\u001b[0m \u001b[1m0s\u001b[0m 775us/step - accuracy: 0.8591 - loss: 0.3461 - val_accuracy: 0.8516 - val_loss: 0.3811\n",
      "Epoch 15/1000\n",
      "\u001b[1m536/536\u001b[0m \u001b[32m━━━━━━━━━━━━━━━━━━━━\u001b[0m\u001b[37m\u001b[0m \u001b[1m0s\u001b[0m 778us/step - accuracy: 0.8572 - loss: 0.3518 - val_accuracy: 0.8565 - val_loss: 0.3586\n",
      "Epoch 16/1000\n",
      "\u001b[1m536/536\u001b[0m \u001b[32m━━━━━━━━━━━━━━━━━━━━\u001b[0m\u001b[37m\u001b[0m \u001b[1m0s\u001b[0m 808us/step - accuracy: 0.8565 - loss: 0.3547 - val_accuracy: 0.8588 - val_loss: 0.3607\n",
      "Epoch 17/1000\n",
      "\u001b[1m536/536\u001b[0m \u001b[32m━━━━━━━━━━━━━━━━━━━━\u001b[0m\u001b[37m\u001b[0m \u001b[1m1s\u001b[0m 939us/step - accuracy: 0.8589 - loss: 0.3490 - val_accuracy: 0.8531 - val_loss: 0.3687\n",
      "Epoch 18/1000\n",
      "\u001b[1m536/536\u001b[0m \u001b[32m━━━━━━━━━━━━━━━━━━━━\u001b[0m\u001b[37m\u001b[0m \u001b[1m0s\u001b[0m 742us/step - accuracy: 0.8610 - loss: 0.3465 - val_accuracy: 0.8554 - val_loss: 0.3550\n",
      "Epoch 19/1000\n",
      "\u001b[1m536/536\u001b[0m \u001b[32m━━━━━━━━━━━━━━━━━━━━\u001b[0m\u001b[37m\u001b[0m \u001b[1m0s\u001b[0m 760us/step - accuracy: 0.8582 - loss: 0.3501 - val_accuracy: 0.8535 - val_loss: 0.3740\n",
      "Epoch 20/1000\n",
      "\u001b[1m536/536\u001b[0m \u001b[32m━━━━━━━━━━━━━━━━━━━━\u001b[0m\u001b[37m\u001b[0m \u001b[1m0s\u001b[0m 751us/step - accuracy: 0.8580 - loss: 0.3491 - val_accuracy: 0.8523 - val_loss: 0.3625\n",
      "Epoch 21/1000\n",
      "\u001b[1m536/536\u001b[0m \u001b[32m━━━━━━━━━━━━━━━━━━━━\u001b[0m\u001b[37m\u001b[0m \u001b[1m0s\u001b[0m 760us/step - accuracy: 0.8619 - loss: 0.3501 - val_accuracy: 0.8599 - val_loss: 0.3714\n",
      "Epoch 22/1000\n",
      "\u001b[1m536/536\u001b[0m \u001b[32m━━━━━━━━━━━━━━━━━━━━\u001b[0m\u001b[37m\u001b[0m \u001b[1m0s\u001b[0m 796us/step - accuracy: 0.8597 - loss: 0.3469 - val_accuracy: 0.8542 - val_loss: 0.3707\n",
      "Epoch 23/1000\n",
      "\u001b[1m536/536\u001b[0m \u001b[32m━━━━━━━━━━━━━━━━━━━━\u001b[0m\u001b[37m\u001b[0m \u001b[1m0s\u001b[0m 753us/step - accuracy: 0.8606 - loss: 0.3476 - val_accuracy: 0.8519 - val_loss: 0.3804\n",
      "Epoch 24/1000\n",
      "\u001b[1m536/536\u001b[0m \u001b[32m━━━━━━━━━━━━━━━━━━━━\u001b[0m\u001b[37m\u001b[0m \u001b[1m0s\u001b[0m 752us/step - accuracy: 0.8634 - loss: 0.3440 - val_accuracy: 0.8421 - val_loss: 0.4124\n",
      "Epoch 25/1000\n",
      "\u001b[1m536/536\u001b[0m \u001b[32m━━━━━━━━━━━━━━━━━━━━\u001b[0m\u001b[37m\u001b[0m \u001b[1m0s\u001b[0m 782us/step - accuracy: 0.8599 - loss: 0.3476 - val_accuracy: 0.8546 - val_loss: 0.3716\n",
      "Epoch 26/1000\n",
      "\u001b[1m536/536\u001b[0m \u001b[32m━━━━━━━━━━━━━━━━━━━━\u001b[0m\u001b[37m\u001b[0m \u001b[1m0s\u001b[0m 752us/step - accuracy: 0.8630 - loss: 0.3438 - val_accuracy: 0.8603 - val_loss: 0.3531\n",
      "Epoch 27/1000\n",
      "\u001b[1m536/536\u001b[0m \u001b[32m━━━━━━━━━━━━━━━━━━━━\u001b[0m\u001b[37m\u001b[0m \u001b[1m0s\u001b[0m 759us/step - accuracy: 0.8617 - loss: 0.3455 - val_accuracy: 0.8508 - val_loss: 0.3615\n",
      "Epoch 28/1000\n",
      "\u001b[1m536/536\u001b[0m \u001b[32m━━━━━━━━━━━━━━━━━━━━\u001b[0m\u001b[37m\u001b[0m \u001b[1m0s\u001b[0m 746us/step - accuracy: 0.8599 - loss: 0.3477 - val_accuracy: 0.8573 - val_loss: 0.3748\n",
      "Epoch 29/1000\n",
      "\u001b[1m536/536\u001b[0m \u001b[32m━━━━━━━━━━━━━━━━━━━━\u001b[0m\u001b[37m\u001b[0m \u001b[1m0s\u001b[0m 794us/step - accuracy: 0.8606 - loss: 0.3422 - val_accuracy: 0.8523 - val_loss: 0.3666\n",
      "Epoch 30/1000\n",
      "\u001b[1m536/536\u001b[0m \u001b[32m━━━━━━━━━━━━━━━━━━━━\u001b[0m\u001b[37m\u001b[0m \u001b[1m0s\u001b[0m 751us/step - accuracy: 0.8565 - loss: 0.3456 - val_accuracy: 0.8531 - val_loss: 0.3706\n",
      "Epoch 31/1000\n",
      "\u001b[1m536/536\u001b[0m \u001b[32m━━━━━━━━━━━━━━━━━━━━\u001b[0m\u001b[37m\u001b[0m \u001b[1m0s\u001b[0m 747us/step - accuracy: 0.8619 - loss: 0.3415 - val_accuracy: 0.8554 - val_loss: 0.3631\n",
      "Epoch 32/1000\n",
      "\u001b[1m536/536\u001b[0m \u001b[32m━━━━━━━━━━━━━━━━━━━━\u001b[0m\u001b[37m\u001b[0m \u001b[1m1s\u001b[0m 964us/step - accuracy: 0.8576 - loss: 0.3404 - val_accuracy: 0.8523 - val_loss: 0.3619\n",
      "Epoch 33/1000\n",
      "\u001b[1m536/536\u001b[0m \u001b[32m━━━━━━━━━━━━━━━━━━━━\u001b[0m\u001b[37m\u001b[0m \u001b[1m0s\u001b[0m 758us/step - accuracy: 0.8649 - loss: 0.3401 - val_accuracy: 0.8561 - val_loss: 0.3537\n",
      "Epoch 34/1000\n",
      "\u001b[1m536/536\u001b[0m \u001b[32m━━━━━━━━━━━━━━━━━━━━\u001b[0m\u001b[37m\u001b[0m \u001b[1m0s\u001b[0m 796us/step - accuracy: 0.8625 - loss: 0.3384 - val_accuracy: 0.8531 - val_loss: 0.3618\n",
      "Epoch 35/1000\n",
      "\u001b[1m536/536\u001b[0m \u001b[32m━━━━━━━━━━━━━━━━━━━━\u001b[0m\u001b[37m\u001b[0m \u001b[1m0s\u001b[0m 754us/step - accuracy: 0.8630 - loss: 0.3408 - val_accuracy: 0.8523 - val_loss: 0.3831\n",
      "Epoch 36/1000\n",
      "\u001b[1m536/536\u001b[0m \u001b[32m━━━━━━━━━━━━━━━━━━━━\u001b[0m\u001b[37m\u001b[0m \u001b[1m0s\u001b[0m 735us/step - accuracy: 0.8614 - loss: 0.3459 - val_accuracy: 0.8504 - val_loss: 0.3624\n",
      "Epoch 37/1000\n",
      "\u001b[1m536/536\u001b[0m \u001b[32m━━━━━━━━━━━━━━━━━━━━\u001b[0m\u001b[37m\u001b[0m \u001b[1m0s\u001b[0m 803us/step - accuracy: 0.8619 - loss: 0.3403 - val_accuracy: 0.8508 - val_loss: 0.3767\n",
      "Epoch 38/1000\n",
      "\u001b[1m536/536\u001b[0m \u001b[32m━━━━━━━━━━━━━━━━━━━━\u001b[0m\u001b[37m\u001b[0m \u001b[1m0s\u001b[0m 761us/step - accuracy: 0.8602 - loss: 0.3426 - val_accuracy: 0.8421 - val_loss: 0.4048\n",
      "Epoch 39/1000\n",
      "\u001b[1m536/536\u001b[0m \u001b[32m━━━━━━━━━━━━━━━━━━━━\u001b[0m\u001b[37m\u001b[0m \u001b[1m0s\u001b[0m 767us/step - accuracy: 0.8658 - loss: 0.3434 - val_accuracy: 0.8516 - val_loss: 0.3619\n",
      "Epoch 40/1000\n",
      "\u001b[1m536/536\u001b[0m \u001b[32m━━━━━━━━━━━━━━━━━━━━\u001b[0m\u001b[37m\u001b[0m \u001b[1m0s\u001b[0m 759us/step - accuracy: 0.8615 - loss: 0.3420 - val_accuracy: 0.8519 - val_loss: 0.3682\n",
      "Epoch 41/1000\n",
      "\u001b[1m536/536\u001b[0m \u001b[32m━━━━━━━━━━━━━━━━━━━━\u001b[0m\u001b[37m\u001b[0m \u001b[1m0s\u001b[0m 746us/step - accuracy: 0.8653 - loss: 0.3387 - val_accuracy: 0.8519 - val_loss: 0.3632\n",
      "Epoch 42/1000\n",
      "\u001b[1m536/536\u001b[0m \u001b[32m━━━━━━━━━━━━━━━━━━━━\u001b[0m\u001b[37m\u001b[0m \u001b[1m0s\u001b[0m 750us/step - accuracy: 0.8614 - loss: 0.3394 - val_accuracy: 0.8576 - val_loss: 0.3596\n",
      "Epoch 43/1000\n",
      "\u001b[1m536/536\u001b[0m \u001b[32m━━━━━━━━━━━━━━━━━━━━\u001b[0m\u001b[37m\u001b[0m \u001b[1m0s\u001b[0m 755us/step - accuracy: 0.8612 - loss: 0.3419 - val_accuracy: 0.8576 - val_loss: 0.3628\n",
      "Epoch 44/1000\n",
      "\u001b[1m536/536\u001b[0m \u001b[32m━━━━━━━━━━━━━━━━━━━━\u001b[0m\u001b[37m\u001b[0m \u001b[1m0s\u001b[0m 760us/step - accuracy: 0.8630 - loss: 0.3395 - val_accuracy: 0.8535 - val_loss: 0.3749\n",
      "Epoch 45/1000\n",
      "\u001b[1m536/536\u001b[0m \u001b[32m━━━━━━━━━━━━━━━━━━━━\u001b[0m\u001b[37m\u001b[0m \u001b[1m0s\u001b[0m 801us/step - accuracy: 0.8628 - loss: 0.3398 - val_accuracy: 0.8546 - val_loss: 0.3631\n",
      "Epoch 46/1000\n",
      "\u001b[1m536/536\u001b[0m \u001b[32m━━━━━━━━━━━━━━━━━━━━\u001b[0m\u001b[37m\u001b[0m \u001b[1m1s\u001b[0m 981us/step - accuracy: 0.8628 - loss: 0.3391 - val_accuracy: 0.8546 - val_loss: 0.3682\n",
      "Epoch 46: early stopping\n"
     ]
    }
   ],
   "source": [
    "model_history = classifier.fit(\n",
    "    X_train_scaled,\n",
    "    y_train,\n",
    "    validation_split = 0.33,\n",
    "    batch_size = 10,\n",
    "    epochs = 1000,\n",
    "    callbacks = early_stopping\n",
    ")"
   ]
  },
  {
   "cell_type": "code",
   "execution_count": 138,
   "id": "c77c8738",
   "metadata": {},
   "outputs": [
    {
     "data": {
      "text/plain": [
       "dict_keys(['accuracy', 'loss', 'val_accuracy', 'val_loss'])"
      ]
     },
     "execution_count": 138,
     "metadata": {},
     "output_type": "execute_result"
    }
   ],
   "source": [
    "model_history.history.keys()"
   ]
  },
  {
   "cell_type": "markdown",
   "id": "e935efd3",
   "metadata": {},
   "source": [
    "## Plot the Accuracy"
   ]
  },
  {
   "cell_type": "code",
   "execution_count": 139,
   "id": "41455d3c",
   "metadata": {},
   "outputs": [
    {
     "data": {
      "image/png": "[encoded data removed]",
      "text/plain": [
       "<Figure size 640x480 with 1 Axes>"
      ]
     },
     "metadata": {},
     "output_type": "display_data"
    },
    {
     "data": {
      "image/png": "[encoded data removed]",
      "text/plain": [
       "<Figure size 640x480 with 1 Axes>"
      ]
     },
     "metadata": {},
     "output_type": "display_data"
    }
   ],
   "source": [
    "plt.plot(model_history.history['loss'], label='train')\n",
    "plt.plot(model_history.history['val_loss'], label='val')\n",
    "plt.title('Loss')\n",
    "plt.xlabel('Epoch')\n",
    "plt.ylabel('Loss')\n",
    "plt.legend()\n",
    "plt.show()\n",
    "\n",
    "plt.plot(model_history.history['accuracy'], label='train')\n",
    "plt.plot(model_history.history['val_accuracy'], label='val')\n",
    "plt.title('Accuracy')\n",
    "plt.xlabel('Epoch')\n",
    "plt.ylabel('Accuracy')\n",
    "plt.legend()\n",
    "plt.show()"
   ]
  },
  {
   "cell_type": "markdown",
   "id": "52dde763",
   "metadata": {},
   "source": [
    "## Test the data"
   ]
  },
  {
   "cell_type": "code",
   "execution_count": 140,
   "id": "fc98889e",
   "metadata": {},
   "outputs": [
    {
     "name": "stdout",
     "output_type": "stream",
     "text": [
      "\u001b[1m63/63\u001b[0m \u001b[32m━━━━━━━━━━━━━━━━━━━━\u001b[0m\u001b[37m\u001b[0m \u001b[1m0s\u001b[0m 748us/step\n",
      "[[False]\n",
      " [False]\n",
      " [False]\n",
      " ...\n",
      " [ True]\n",
      " [False]\n",
      " [False]]\n",
      "9394    0\n",
      "898     1\n",
      "2398    0\n",
      "5906    0\n",
      "2343    0\n",
      "       ..\n",
      "1037    0\n",
      "2899    0\n",
      "9549    0\n",
      "2740    0\n",
      "6690    0\n",
      "Name: Exited, Length: 2000, dtype: int64\n"
     ]
    }
   ],
   "source": [
    "y_pred = classifier.predict(X_test_scaled)\n",
    "y_pred = (y_pred > 0.5)\n",
    "\n",
    "print(y_pred)\n",
    "\n",
    "print(y_test)\n"
   ]
  },
  {
   "cell_type": "code",
   "execution_count": 141,
   "id": "29cc3121",
   "metadata": {},
   "outputs": [
    {
     "name": "stdout",
     "output_type": "stream",
     "text": [
      "[[1506   89]\n",
      " [ 195  210]]\n",
      "0.858\n"
     ]
    }
   ],
   "source": [
    "# Get the confusion matrix\n",
    "from sklearn.metrics import confusion_matrix, accuracy_score\n",
    "\n",
    "cm = confusion_matrix(y_test, y_pred)\n",
    "\n",
    "print(cm)\n",
    "\n",
    "print(accuracy_score(y_test, y_pred))"
   ]
  },
  {
   "cell_type": "code",
   "execution_count": 142,
   "id": "cf23b32d",
   "metadata": {},
   "outputs": [
    {
     "name": "stdout",
     "output_type": "stream",
     "text": [
      "[array([[ 0.6861744 , -0.11060695,  1.7788908 ,  0.6312998 ,  0.39626396,\n",
      "         0.3197635 , -0.40910366,  0.60598695, -0.10970268, -0.28813857,\n",
      "        -0.21256803],\n",
      "       [-3.8650775 , -0.17180137, -0.34360552, -1.9092094 ,  0.67017496,\n",
      "        -0.48888072, -1.576057  , -1.1443105 , -3.1057165 ,  2.176366  ,\n",
      "        -0.1518056 ],\n",
      "       [ 0.5351713 ,  0.25559583,  1.0477914 ,  0.17560843,  0.4759541 ,\n",
      "        -0.21102272,  0.08961885,  1.1785083 ,  0.03079906,  0.18830375,\n",
      "        -0.0211463 ],\n",
      "       [-0.9283913 , -2.9866855 , -0.07785334,  0.10918534,  0.151028  ,\n",
      "        -1.8345262 ,  0.5226405 , -2.4403605 ,  0.55232036,  0.51909566,\n",
      "         0.81860507],\n",
      "       [-0.05977144,  2.0944726 ,  0.3038449 , -0.10181041, -0.11470433,\n",
      "         2.2804205 ,  0.67598355,  1.2536782 ,  0.8734442 ,  0.34225088,\n",
      "         4.1824017 ],\n",
      "       [ 0.20605902, -0.329441  , -0.40404505, -0.23457968,  0.03953309,\n",
      "         0.53519744,  0.56674796, -1.4684657 , -0.0248683 , -0.13532996,\n",
      "        -0.07859416],\n",
      "       [-0.1843338 ,  0.30433017,  1.5636182 , -0.9433432 ,  2.7073038 ,\n",
      "         0.33889973,  2.7257483 ,  0.60371995, -0.2372223 ,  1.4641403 ,\n",
      "        -0.07621317],\n",
      "       [-0.0995305 ,  0.13720047,  0.90327203, -0.6127743 , -0.3681431 ,\n",
      "         0.44544825, -0.19402738, -0.3624427 , -0.1406972 , -0.05323126,\n",
      "         0.34157872],\n",
      "       [ 0.21332729,  1.0600324 , -0.85333586, -1.759589  , -2.1056218 ,\n",
      "         2.0677207 ,  0.57214344, -0.47992912, -0.8782708 ,  0.1602774 ,\n",
      "        -0.3426938 ],\n",
      "       [ 0.45425338,  0.12730588,  0.8428662 , -1.6819037 ,  0.0584757 ,\n",
      "        -0.10033821,  1.158059  , -0.30379194,  0.02765914, -0.19775799,\n",
      "         0.72589636],\n",
      "       [-0.495965  ,  0.33695665,  0.95905375,  1.455985  ,  0.00811712,\n",
      "        -0.24932738,  0.97647035,  0.9077011 , -0.07967414,  0.14666064,\n",
      "        -0.18256815]], dtype=float32), array([-0.65846777, -2.1833699 , -4.0145187 , -0.45793152, -1.4514732 ,\n",
      "        0.1275771 , -0.01478164, -3.0905297 ,  3.4663208 , -4.0483727 ,\n",
      "       -4.436093  ], dtype=float32), array([[-0.6173598 , -0.84588087, -1.0447291 , -0.48406062, -0.2406218 ,\n",
      "        -0.25353107, -0.5952907 ],\n",
      "       [ 1.0008821 ,  0.3095011 , -0.09562398, -0.02611397,  1.1911845 ,\n",
      "         0.18647636,  1.6571203 ],\n",
      "       [ 0.91531754,  1.0539726 ,  0.9948395 , -0.6731902 ,  1.6372054 ,\n",
      "         0.8751663 ,  1.6024684 ],\n",
      "       [ 0.18586653, -0.8450578 , -1.1784011 , -0.67970186,  0.19700646,\n",
      "        -0.5812058 ,  0.54124326],\n",
      "       [ 0.34053367, -0.15300263, -1.4135003 , -0.05007823,  0.40564334,\n",
      "        -1.5003774 ,  0.64227766],\n",
      "       [ 0.4353284 , -3.5297678 , -0.2351318 , -0.16427974,  0.5425347 ,\n",
      "        -0.01336811,  0.6240467 ],\n",
      "       [ 0.3575074 , -2.1737535 , -1.418633  , -0.50848866,  0.4204492 ,\n",
      "        -0.51257306,  0.34110615],\n",
      "       [-0.27336127, -0.28393713, -3.1207647 , -0.2667599 ,  0.11293001,\n",
      "        -2.9191499 ,  0.15612023],\n",
      "       [ 0.5403655 , -1.8156155 , -1.250306  , -0.44662133,  0.35697478,\n",
      "        -1.4164197 ,  0.907431  ],\n",
      "       [ 0.5285112 , -2.200535  , -0.54526454, -0.7246166 ,  0.78751445,\n",
      "        -0.09443005,  1.454386  ],\n",
      "       [-2.231814  , -1.0084347 ,  3.0134718 , -0.47529155, -2.7851133 ,\n",
      "         3.1033955 , -3.002569  ]], dtype=float32), array([-1.5478495 ,  1.7867975 ,  1.175886  , -0.83229584, -0.36611906,\n",
      "        1.4556359 ,  0.3688625 ], dtype=float32), array([[-1.4588119 ,  0.05384446,  0.01652264, -0.12307837,  0.32768273,\n",
      "         0.7414401 ],\n",
      "       [-2.049322  , -1.0403155 , -0.22728738,  0.12632264, -0.00909541,\n",
      "        -1.3021196 ],\n",
      "       [-0.79611593, -0.76735866, -0.44397974, -0.54555863, -0.4477138 ,\n",
      "        -1.9954805 ],\n",
      "       [ 0.06907968,  0.15956934,  0.3539516 ,  0.457986  ,  0.48996273,\n",
      "         0.73547614],\n",
      "       [-0.02602408,  0.12493853, -0.17713094, -0.2789506 ,  0.61340183,\n",
      "        -4.5778527 ],\n",
      "       [-0.26892665, -0.9345643 , -0.5913941 , -0.7772404 , -0.49312904,\n",
      "        -1.8354172 ],\n",
      "       [-0.4610941 ,  0.44005892, -0.7714015 , -0.1955854 , -2.364393  ,\n",
      "        -2.4754355 ]], dtype=float32), array([-0.38035476,  2.857628  , -0.54575217, -0.35085326,  1.4028949 ,\n",
      "        0.7838814 ], dtype=float32), array([[ 0.03829657],\n",
      "       [-0.56415415],\n",
      "       [ 0.12127529],\n",
      "       [-0.11996803],\n",
      "       [-0.46190023],\n",
      "       [-0.9939227 ]], dtype=float32), array([2.0608068], dtype=float32)]\n"
     ]
    }
   ],
   "source": [
    "# We can get the weights and biases of the layers\n",
    "\n",
    "print(classifier.get_weights())"
   ]
  }
 ],
 "metadata": {
  "kernelspec": {
   "display_name": "mnist_env",
   "language": "python",
   "name": "python3"
  },
  "language_info": {
   "codemirror_mode": {
    "name": "ipython",
    "version": 3
   },
   "file_extension": ".py",
   "mimetype": "text/x-python",
   "name": "python",
   "nbconvert_exporter": "python",
   "pygments_lexer": "ipython3",
   "version": "3.13.4"
  }
 },
 "nbformat": 4,
 "nbformat_minor": 5
}
